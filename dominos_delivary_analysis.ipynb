{
 "cells": [
  {
   "cell_type": "markdown",
   "id": "6a9e3153",
   "metadata": {},
   "source": [
    "# Dominos Delivary Analysis"
   ]
  },
  {
   "cell_type": "markdown",
   "id": "5b81943d",
   "metadata": {},
   "source": [
    "## Importing libraries and data"
   ]
  },
  {
   "cell_type": "code",
   "execution_count": 170,
   "id": "d4ca1b7e",
   "metadata": {},
   "outputs": [],
   "source": [
    "import numpy as np\n",
    "import pandas as pd\n",
    "import matplotlib.pyplot as plt\n",
    "import seaborn as sns\n",
    "from datetime import time,timedelta"
   ]
  },
  {
   "cell_type": "code",
   "execution_count": 171,
   "id": "056f0017",
   "metadata": {},
   "outputs": [],
   "source": [
    "df = pd.read_csv('dominos_data.csv',parse_dates= ['order_placed_at','order_delivered_at'])"
   ]
  },
  {
   "cell_type": "code",
   "execution_count": 172,
   "id": "e24c2f98",
   "metadata": {},
   "outputs": [
    {
     "name": "stdout",
     "output_type": "stream",
     "text": [
      "<class 'pandas.core.frame.DataFrame'>\n",
      "RangeIndex: 15000 entries, 0 to 14999\n",
      "Data columns (total 3 columns):\n",
      " #   Column              Non-Null Count  Dtype         \n",
      "---  ------              --------------  -----         \n",
      " 0   order_id            15000 non-null  int64         \n",
      " 1   order_placed_at     15000 non-null  datetime64[ns]\n",
      " 2   order_delivered_at  15000 non-null  datetime64[ns]\n",
      "dtypes: datetime64[ns](2), int64(1)\n",
      "memory usage: 351.7 KB\n"
     ]
    }
   ],
   "source": [
    "df.info()"
   ]
  },
  {
   "cell_type": "code",
   "execution_count": 173,
   "id": "e938368a",
   "metadata": {},
   "outputs": [
    {
     "data": {
      "text/html": [
       "<div>\n",
       "<style scoped>\n",
       "    .dataframe tbody tr th:only-of-type {\n",
       "        vertical-align: middle;\n",
       "    }\n",
       "\n",
       "    .dataframe tbody tr th {\n",
       "        vertical-align: top;\n",
       "    }\n",
       "\n",
       "    .dataframe thead th {\n",
       "        text-align: right;\n",
       "    }\n",
       "</style>\n",
       "<table border=\"1\" class=\"dataframe\">\n",
       "  <thead>\n",
       "    <tr style=\"text-align: right;\">\n",
       "      <th></th>\n",
       "      <th>order_id</th>\n",
       "      <th>order_placed_at</th>\n",
       "      <th>order_delivered_at</th>\n",
       "    </tr>\n",
       "  </thead>\n",
       "  <tbody>\n",
       "    <tr>\n",
       "      <th>0</th>\n",
       "      <td>1523111</td>\n",
       "      <td>2023-03-01 00:00:59</td>\n",
       "      <td>2023-03-01 00:18:07.443132</td>\n",
       "    </tr>\n",
       "    <tr>\n",
       "      <th>1</th>\n",
       "      <td>1523112</td>\n",
       "      <td>2023-03-01 00:03:59</td>\n",
       "      <td>2023-03-01 00:19:34.925241</td>\n",
       "    </tr>\n",
       "    <tr>\n",
       "      <th>2</th>\n",
       "      <td>1523113</td>\n",
       "      <td>2023-03-01 00:07:22</td>\n",
       "      <td>2023-03-01 00:22:28.291385</td>\n",
       "    </tr>\n",
       "    <tr>\n",
       "      <th>3</th>\n",
       "      <td>1523114</td>\n",
       "      <td>2023-03-01 00:07:47</td>\n",
       "      <td>2023-03-01 00:46:19.019399</td>\n",
       "    </tr>\n",
       "    <tr>\n",
       "      <th>4</th>\n",
       "      <td>1523115</td>\n",
       "      <td>2023-03-01 00:09:03</td>\n",
       "      <td>2023-03-01 00:25:13.619056</td>\n",
       "    </tr>\n",
       "  </tbody>\n",
       "</table>\n",
       "</div>"
      ],
      "text/plain": [
       "   order_id     order_placed_at         order_delivered_at\n",
       "0   1523111 2023-03-01 00:00:59 2023-03-01 00:18:07.443132\n",
       "1   1523112 2023-03-01 00:03:59 2023-03-01 00:19:34.925241\n",
       "2   1523113 2023-03-01 00:07:22 2023-03-01 00:22:28.291385\n",
       "3   1523114 2023-03-01 00:07:47 2023-03-01 00:46:19.019399\n",
       "4   1523115 2023-03-01 00:09:03 2023-03-01 00:25:13.619056"
      ]
     },
     "execution_count": 173,
     "metadata": {},
     "output_type": "execute_result"
    }
   ],
   "source": [
    "df.head()"
   ]
  },
  {
   "cell_type": "markdown",
   "id": "cede4e20",
   "metadata": {},
   "source": [
    "### Question we can extract from our data\n",
    "1. average number of sales in a day?\n",
    "2. what is the 95th percentile delivary_time?\n",
    "3. out of total orders how many are delivered below or equal to 31minutes ?\n",
    "4. Mean of the delivary_time?\n",
    "7. max,min sales day of data?\n",
    "5. which dayof week has more number of sales?\n",
    "6. at which time of the day sales are high/peak hours?"
   ]
  },
  {
   "cell_type": "code",
   "execution_count": 174,
   "id": "7f62f49c",
   "metadata": {},
   "outputs": [
    {
     "data": {
      "text/plain": [
       "Timestamp('2023-03-01 00:00:59')"
      ]
     },
     "execution_count": 174,
     "metadata": {},
     "output_type": "execute_result"
    }
   ],
   "source": [
    "df['order_placed_at'].min()\n"
   ]
  },
  {
   "cell_type": "code",
   "execution_count": 175,
   "id": "c2a78bea",
   "metadata": {},
   "outputs": [
    {
     "name": "stdout",
     "output_type": "stream",
     "text": [
      "The data is from  2023-03-01 00:00:59 to 2023-03-27 23:58:20\n"
     ]
    }
   ],
   "source": [
    "print('The data is from ',df['order_placed_at'].min(),'to',df['order_placed_at'].max())"
   ]
  },
  {
   "cell_type": "code",
   "execution_count": 176,
   "id": "2e4110a7",
   "metadata": {},
   "outputs": [
    {
     "data": {
      "text/plain": [
       "Timestamp('2023-03-01 00:00:59')"
      ]
     },
     "execution_count": 176,
     "metadata": {},
     "output_type": "execute_result"
    }
   ],
   "source": [
    "df['order_placed_at'][0]"
   ]
  },
  {
   "cell_type": "markdown",
   "id": "f5663646",
   "metadata": {},
   "source": [
    "> **It is the data of 27days in march from 1st to 27th day.**"
   ]
  },
  {
   "cell_type": "code",
   "execution_count": 177,
   "id": "7a9949b7",
   "metadata": {},
   "outputs": [
    {
     "data": {
      "text/plain": [
       "555.0"
      ]
     },
     "execution_count": 177,
     "metadata": {},
     "output_type": "execute_result"
    }
   ],
   "source": [
    "np.floor((len(df)/27))"
   ]
  },
  {
   "cell_type": "markdown",
   "id": "600c4d54",
   "metadata": {},
   "source": [
    "### <span style=\"color:green\">Average number of sales in a day is 555</span>\n"
   ]
  },
  {
   "cell_type": "code",
   "execution_count": 178,
   "id": "b11d1f03",
   "metadata": {},
   "outputs": [
    {
     "data": {
      "text/plain": [
       "order_id              0\n",
       "order_placed_at       0\n",
       "order_delivered_at    0\n",
       "dtype: int64"
      ]
     },
     "execution_count": 178,
     "metadata": {},
     "output_type": "execute_result"
    }
   ],
   "source": [
    "df.isna().sum()"
   ]
  },
  {
   "cell_type": "markdown",
   "id": "2e21c7f9",
   "metadata": {},
   "source": [
    "## Feature Engineering"
   ]
  },
  {
   "cell_type": "code",
   "execution_count": 179,
   "id": "e3b1ecbf",
   "metadata": {},
   "outputs": [
    {
     "data": {
      "text/html": [
       "<div>\n",
       "<style scoped>\n",
       "    .dataframe tbody tr th:only-of-type {\n",
       "        vertical-align: middle;\n",
       "    }\n",
       "\n",
       "    .dataframe tbody tr th {\n",
       "        vertical-align: top;\n",
       "    }\n",
       "\n",
       "    .dataframe thead th {\n",
       "        text-align: right;\n",
       "    }\n",
       "</style>\n",
       "<table border=\"1\" class=\"dataframe\">\n",
       "  <thead>\n",
       "    <tr style=\"text-align: right;\">\n",
       "      <th></th>\n",
       "      <th>order_id</th>\n",
       "      <th>order_placed_at</th>\n",
       "      <th>order_delivered_at</th>\n",
       "      <th>delivary_time</th>\n",
       "    </tr>\n",
       "  </thead>\n",
       "  <tbody>\n",
       "    <tr>\n",
       "      <th>0</th>\n",
       "      <td>1523111</td>\n",
       "      <td>2023-03-01 00:00:59</td>\n",
       "      <td>2023-03-01 00:18:07.443132</td>\n",
       "      <td>17.0</td>\n",
       "    </tr>\n",
       "    <tr>\n",
       "      <th>1</th>\n",
       "      <td>1523112</td>\n",
       "      <td>2023-03-01 00:03:59</td>\n",
       "      <td>2023-03-01 00:19:34.925241</td>\n",
       "      <td>15.0</td>\n",
       "    </tr>\n",
       "    <tr>\n",
       "      <th>2</th>\n",
       "      <td>1523113</td>\n",
       "      <td>2023-03-01 00:07:22</td>\n",
       "      <td>2023-03-01 00:22:28.291385</td>\n",
       "      <td>15.0</td>\n",
       "    </tr>\n",
       "    <tr>\n",
       "      <th>3</th>\n",
       "      <td>1523114</td>\n",
       "      <td>2023-03-01 00:07:47</td>\n",
       "      <td>2023-03-01 00:46:19.019399</td>\n",
       "      <td>38.0</td>\n",
       "    </tr>\n",
       "    <tr>\n",
       "      <th>4</th>\n",
       "      <td>1523115</td>\n",
       "      <td>2023-03-01 00:09:03</td>\n",
       "      <td>2023-03-01 00:25:13.619056</td>\n",
       "      <td>16.0</td>\n",
       "    </tr>\n",
       "  </tbody>\n",
       "</table>\n",
       "</div>"
      ],
      "text/plain": [
       "   order_id     order_placed_at         order_delivered_at  delivary_time\n",
       "0   1523111 2023-03-01 00:00:59 2023-03-01 00:18:07.443132           17.0\n",
       "1   1523112 2023-03-01 00:03:59 2023-03-01 00:19:34.925241           15.0\n",
       "2   1523113 2023-03-01 00:07:22 2023-03-01 00:22:28.291385           15.0\n",
       "3   1523114 2023-03-01 00:07:47 2023-03-01 00:46:19.019399           38.0\n",
       "4   1523115 2023-03-01 00:09:03 2023-03-01 00:25:13.619056           16.0"
      ]
     },
     "execution_count": 179,
     "metadata": {},
     "output_type": "execute_result"
    }
   ],
   "source": [
    "df['delivary_time'] = np.floor((df['order_delivered_at'] - df['order_placed_at'])/timedelta(minutes = 1))\n",
    "df.head()"
   ]
  },
  {
   "cell_type": "code",
   "execution_count": 180,
   "id": "71a4ab48",
   "metadata": {},
   "outputs": [
    {
     "data": {
      "text/plain": [
       "20.088666666666665"
      ]
     },
     "execution_count": 180,
     "metadata": {},
     "output_type": "execute_result"
    }
   ],
   "source": [
    "df['delivary_time'].mean()"
   ]
  },
  {
   "cell_type": "markdown",
   "id": "26f21ff2",
   "metadata": {},
   "source": [
    "### <span style=\"color:green\">Mean of the delivary_time is 20.08 minutes</span>\n"
   ]
  },
  {
   "cell_type": "code",
   "execution_count": 181,
   "id": "13906dd0",
   "metadata": {},
   "outputs": [
    {
     "data": {
      "text/plain": [
       "27.0"
      ]
     },
     "execution_count": 181,
     "metadata": {},
     "output_type": "execute_result"
    }
   ],
   "source": [
    "np.percentile(df['delivary_time'],95)"
   ]
  },
  {
   "cell_type": "markdown",
   "id": "ad7d8c66",
   "metadata": {},
   "source": [
    "### <span style=\"color:green\">27minutes is the 95th percentile delivary_time</span>\n"
   ]
  },
  {
   "cell_type": "code",
   "execution_count": 182,
   "id": "14c79161",
   "metadata": {},
   "outputs": [
    {
     "name": "stdout",
     "output_type": "stream",
     "text": [
      "Number of late delivaries are 517 percentage is: 3.0\n",
      "Number of Fast delivaries are 14483 percentage is: 97.0\n"
     ]
    }
   ],
   "source": [
    "print('Number of late delivaries are',df[df['delivary_time']>31.0]['order_id'].count(),'percentage is:',np.round(df[df['delivary_time']>31.0]['order_id'].count()/len(df),2)*100)\n",
    "print('Number of Fast delivaries are',df[df['delivary_time']<=31.0]['order_id'].count(),'percentage is:',np.round(df[df['delivary_time']<=31.0]['order_id'].count()/len(df),2)*100)"
   ]
  },
  {
   "cell_type": "markdown",
   "id": "c6c2cbec",
   "metadata": {},
   "source": [
    "### <span style=\"color:green\">Number of late delivaries are 517 percentage is: 3%</span>\n",
    "### <span style=\"color:green\">Number of Fast delivaries are 14483 percentage is: 97%</span>"
   ]
  },
  {
   "cell_type": "code",
   "execution_count": 183,
   "id": "6f150bdc",
   "metadata": {},
   "outputs": [],
   "source": [
    "# function to extract date and time from our data\n",
    "def extractdatetime(feature,data):\n",
    "    data[str(feature)+'_date'] = data[str(feature)].apply(lambda x: x.date()) \n",
    "    data[str(feature)+'_dayofweek'] = data[str(feature)].apply(lambda x: x.strftime('%A'))\n",
    "    data[str(feature)+'_hour'] = data[str(feature)].apply(lambda x : x.hour)"
   ]
  },
  {
   "cell_type": "code",
   "execution_count": 184,
   "id": "bfcb9009",
   "metadata": {},
   "outputs": [],
   "source": [
    "extractdatetime('order_placed_at',df)"
   ]
  },
  {
   "cell_type": "code",
   "execution_count": 185,
   "id": "434bc2c7",
   "metadata": {
    "scrolled": true
   },
   "outputs": [
    {
     "data": {
      "text/html": [
       "<div>\n",
       "<style scoped>\n",
       "    .dataframe tbody tr th:only-of-type {\n",
       "        vertical-align: middle;\n",
       "    }\n",
       "\n",
       "    .dataframe tbody tr th {\n",
       "        vertical-align: top;\n",
       "    }\n",
       "\n",
       "    .dataframe thead th {\n",
       "        text-align: right;\n",
       "    }\n",
       "</style>\n",
       "<table border=\"1\" class=\"dataframe\">\n",
       "  <thead>\n",
       "    <tr style=\"text-align: right;\">\n",
       "      <th></th>\n",
       "      <th>order_id</th>\n",
       "      <th>order_placed_at</th>\n",
       "      <th>order_delivered_at</th>\n",
       "      <th>delivary_time</th>\n",
       "      <th>order_placed_at_date</th>\n",
       "      <th>order_placed_at_dayofweek</th>\n",
       "      <th>order_placed_at_hour</th>\n",
       "    </tr>\n",
       "  </thead>\n",
       "  <tbody>\n",
       "    <tr>\n",
       "      <th>0</th>\n",
       "      <td>1523111</td>\n",
       "      <td>2023-03-01 00:00:59</td>\n",
       "      <td>2023-03-01 00:18:07.443132</td>\n",
       "      <td>17.0</td>\n",
       "      <td>2023-03-01</td>\n",
       "      <td>Wednesday</td>\n",
       "      <td>0</td>\n",
       "    </tr>\n",
       "    <tr>\n",
       "      <th>1</th>\n",
       "      <td>1523112</td>\n",
       "      <td>2023-03-01 00:03:59</td>\n",
       "      <td>2023-03-01 00:19:34.925241</td>\n",
       "      <td>15.0</td>\n",
       "      <td>2023-03-01</td>\n",
       "      <td>Wednesday</td>\n",
       "      <td>0</td>\n",
       "    </tr>\n",
       "    <tr>\n",
       "      <th>2</th>\n",
       "      <td>1523113</td>\n",
       "      <td>2023-03-01 00:07:22</td>\n",
       "      <td>2023-03-01 00:22:28.291385</td>\n",
       "      <td>15.0</td>\n",
       "      <td>2023-03-01</td>\n",
       "      <td>Wednesday</td>\n",
       "      <td>0</td>\n",
       "    </tr>\n",
       "    <tr>\n",
       "      <th>3</th>\n",
       "      <td>1523114</td>\n",
       "      <td>2023-03-01 00:07:47</td>\n",
       "      <td>2023-03-01 00:46:19.019399</td>\n",
       "      <td>38.0</td>\n",
       "      <td>2023-03-01</td>\n",
       "      <td>Wednesday</td>\n",
       "      <td>0</td>\n",
       "    </tr>\n",
       "    <tr>\n",
       "      <th>4</th>\n",
       "      <td>1523115</td>\n",
       "      <td>2023-03-01 00:09:03</td>\n",
       "      <td>2023-03-01 00:25:13.619056</td>\n",
       "      <td>16.0</td>\n",
       "      <td>2023-03-01</td>\n",
       "      <td>Wednesday</td>\n",
       "      <td>0</td>\n",
       "    </tr>\n",
       "  </tbody>\n",
       "</table>\n",
       "</div>"
      ],
      "text/plain": [
       "   order_id     order_placed_at         order_delivered_at  delivary_time  \\\n",
       "0   1523111 2023-03-01 00:00:59 2023-03-01 00:18:07.443132           17.0   \n",
       "1   1523112 2023-03-01 00:03:59 2023-03-01 00:19:34.925241           15.0   \n",
       "2   1523113 2023-03-01 00:07:22 2023-03-01 00:22:28.291385           15.0   \n",
       "3   1523114 2023-03-01 00:07:47 2023-03-01 00:46:19.019399           38.0   \n",
       "4   1523115 2023-03-01 00:09:03 2023-03-01 00:25:13.619056           16.0   \n",
       "\n",
       "  order_placed_at_date order_placed_at_dayofweek  order_placed_at_hour  \n",
       "0           2023-03-01                 Wednesday                     0  \n",
       "1           2023-03-01                 Wednesday                     0  \n",
       "2           2023-03-01                 Wednesday                     0  \n",
       "3           2023-03-01                 Wednesday                     0  \n",
       "4           2023-03-01                 Wednesday                     0  "
      ]
     },
     "execution_count": 185,
     "metadata": {},
     "output_type": "execute_result"
    }
   ],
   "source": [
    "df.head()"
   ]
  },
  {
   "cell_type": "code",
   "execution_count": 186,
   "id": "4a2f4215",
   "metadata": {},
   "outputs": [
    {
     "name": "stdout",
     "output_type": "stream",
     "text": [
      "2023-03-20 597\n",
      "2023-03-14 492\n"
     ]
    }
   ],
   "source": [
    "print(df.groupby(by = ['order_placed_at_date'])['order_id'].count().idxmax(),df.groupby(by = ['order_placed_at_date'])['order_id'].count().max())\n",
    "print(df.groupby(by = ['order_placed_at_date'])['order_id'].count().idxmin(),df.groupby(by = ['order_placed_at_date'])['order_id'].count().min())"
   ]
  },
  {
   "cell_type": "markdown",
   "id": "b6e3fff7",
   "metadata": {},
   "source": [
    "### <span style=\"color:green\">3rd of march is having the maximum delivaries,597</span>\n",
    "### <span style=\"color:green\">14th of march is having the minimum delivaries,492</span>"
   ]
  },
  {
   "cell_type": "code",
   "execution_count": 187,
   "id": "90c2a332",
   "metadata": {},
   "outputs": [
    {
     "name": "stdout",
     "output_type": "stream",
     "text": [
      "Thursday 2280\n",
      "Tuesday 1582\n"
     ]
    }
   ],
   "source": [
    "print(df.groupby(by = ['order_placed_at_dayofweek'])['order_id'].count().idxmax(),df.groupby(by = ['order_placed_at_dayofweek'])['order_id'].count().max())\n",
    "print(df.groupby(by = ['order_placed_at_dayofweek'])['order_id'].count().idxmin(),df.groupby(by = ['order_placed_at_dayofweek'])['order_id'].count().min())"
   ]
  },
  {
   "cell_type": "markdown",
   "id": "64ff836e",
   "metadata": {},
   "source": [
    "### <span style=\"color:green\">Thursday is having the maximum delivaries,2280</span>\n",
    "### <span style=\"color:green\">Tuesday  is having the minimum delivaries,1582</span>"
   ]
  },
  {
   "cell_type": "code",
   "execution_count": 188,
   "id": "15b9a23e",
   "metadata": {},
   "outputs": [
    {
     "data": {
      "text/plain": [
       "<AxesSubplot:xlabel='order_placed_at_hour'>"
      ]
     },
     "execution_count": 188,
     "metadata": {},
     "output_type": "execute_result"
    },
    {
     "data": {
      "image/png": "[encoded data removed]",
      "text/plain": [
       "<Figure size 432x288 with 1 Axes>"
      ]
     },
     "metadata": {
      "needs_background": "light"
     },
     "output_type": "display_data"
    }
   ],
   "source": [
    "df.groupby(by = ['order_placed_at_hour'])['order_id'].count().plot(kind = 'bar')"
   ]
  },
  {
   "cell_type": "markdown",
   "id": "b44289de",
   "metadata": {},
   "source": [
    "### From above we can say at mid night maximum sales are happening"
   ]
  },
  {
   "cell_type": "code",
   "execution_count": 189,
   "id": "db93ba6d",
   "metadata": {},
   "outputs": [
    {
     "name": "stdout",
     "output_type": "stream",
     "text": [
      "23 673\n"
     ]
    }
   ],
   "source": [
    "print(df.groupby(by = ['order_placed_at_hour'])['order_id'].count().argmax(),df.groupby(by = ['order_placed_at_hour'])['order_id'].count().max())"
   ]
  },
  {
   "cell_type": "markdown",
   "id": "a6aef65c",
   "metadata": {},
   "source": [
    "### <span style=\"color:green\">max sales are at midnight</span>\n",
    "### <span style=\"color:green\">min sales are at morning(6-10 AM)</span>"
   ]
  }
 ],
 "metadata": {
  "kernelspec": {
   "display_name": "Python 3 (ipykernel)",
   "language": "python",
   "name": "python3"
  },
  "language_info": {
   "codemirror_mode": {
    "name": "ipython",
    "version": 3
   },
   "file_extension": ".py",
   "mimetype": "text/x-python",
   "name": "python",
   "nbconvert_exporter": "python",
   "pygments_lexer": "ipython3",
   "version": "3.9.12"
  }
 },
 "nbformat": 4,
 "nbformat_minor": 5
}
